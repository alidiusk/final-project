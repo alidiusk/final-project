{
 "cells": [
  {
   "cell_type": "markdown",
   "metadata": {},
   "source": [
    "# Introduction\n",
    "By: Liam Woodward, low21\n",
    "\n",
    "We will be analyzing the Covid-19 data for each neighborhood as a metric of the best neighborhood in Pittsburgh. As Covid-19 will not be disappearing anytime within the next few months, any neighborhood that purports to be the best in the city must have a low number of Covid-19 cases and deaths, and extensive Covid-19 testing."
   ]
  },
  {
   "cell_type": "markdown",
   "metadata": {},
   "source": [
    "First, we do some initial setup by importing pandas and numpy."
   ]
  },
  {
   "cell_type": "code",
   "execution_count": 1,
   "metadata": {},
   "outputs": [],
   "source": [
    "import pandas as pd\n",
    "import numpy as np"
   ]
  },
  {
   "cell_type": "code",
   "execution_count": 2,
   "metadata": {},
   "outputs": [],
   "source": [
    "%matplotlib inline"
   ]
  },
  {
   "cell_type": "code",
   "execution_count": 3,
   "metadata": {},
   "outputs": [],
   "source": [
    "covid_data = pd.read_csv(\"https://data.wprdc.org/datastore/dump/0f214885-ff3e-44e1-9963-e9e9062a04d1\",\n",
    "                         index_col=\"neighborhood_municipality\",\n",
    "                         parse_dates=True)"
   ]
  },
  {
   "cell_type": "markdown",
   "metadata": {},
   "source": [
    "The data describes the number of individuals tested, the number of cases, and the number of deaths. This is exactly what we wanted to analyze as a metric of each neighborhood's Covid-19 status. Here is an example of some of the data:"
   ]
  },
  {
   "cell_type": "code",
   "execution_count": 4,
   "metadata": {},
   "outputs": [
    {
     "data": {
      "text/html": [
       "<div>\n",
       "<style scoped>\n",
       "    .dataframe tbody tr th:only-of-type {\n",
       "        vertical-align: middle;\n",
       "    }\n",
       "\n",
       "    .dataframe tbody tr th {\n",
       "        vertical-align: top;\n",
       "    }\n",
       "\n",
       "    .dataframe thead th {\n",
       "        text-align: right;\n",
       "    }\n",
       "</style>\n",
       "<table border=\"1\" class=\"dataframe\">\n",
       "  <thead>\n",
       "    <tr style=\"text-align: right;\">\n",
       "      <th></th>\n",
       "      <th>indv_tested</th>\n",
       "      <th>cases</th>\n",
       "      <th>deaths</th>\n",
       "      <th>update_date</th>\n",
       "    </tr>\n",
       "    <tr>\n",
       "      <th>neighborhood_municipality</th>\n",
       "      <th></th>\n",
       "      <th></th>\n",
       "      <th></th>\n",
       "      <th></th>\n",
       "    </tr>\n",
       "  </thead>\n",
       "  <tbody>\n",
       "    <tr>\n",
       "      <th>Aleppo</th>\n",
       "      <td>383</td>\n",
       "      <td>12</td>\n",
       "      <td>0</td>\n",
       "      <td>2020-11-09</td>\n",
       "    </tr>\n",
       "    <tr>\n",
       "      <th>Allegheny Center (Pittsburgh)</th>\n",
       "      <td>219</td>\n",
       "      <td>21</td>\n",
       "      <td>0</td>\n",
       "      <td>2020-11-09</td>\n",
       "    </tr>\n",
       "    <tr>\n",
       "      <th>Allegheny West (Pittsburgh)</th>\n",
       "      <td>108</td>\n",
       "      <td>3</td>\n",
       "      <td>0</td>\n",
       "      <td>2020-11-09</td>\n",
       "    </tr>\n",
       "    <tr>\n",
       "      <th>Allentown (Pittsburgh)</th>\n",
       "      <td>356</td>\n",
       "      <td>33</td>\n",
       "      <td>0</td>\n",
       "      <td>2020-11-09</td>\n",
       "    </tr>\n",
       "    <tr>\n",
       "      <th>Arlington (Pittsburgh)</th>\n",
       "      <td>287</td>\n",
       "      <td>28</td>\n",
       "      <td>1</td>\n",
       "      <td>2020-11-09</td>\n",
       "    </tr>\n",
       "  </tbody>\n",
       "</table>\n",
       "</div>"
      ],
      "text/plain": [
       "                               indv_tested  cases  deaths update_date\n",
       "neighborhood_municipality                                            \n",
       "Aleppo                                 383     12       0  2020-11-09\n",
       "Allegheny Center (Pittsburgh)          219     21       0  2020-11-09\n",
       "Allegheny West (Pittsburgh)            108      3       0  2020-11-09\n",
       "Allentown (Pittsburgh)                 356     33       0  2020-11-09\n",
       "Arlington (Pittsburgh)                 287     28       1  2020-11-09"
      ]
     },
     "execution_count": 4,
     "metadata": {},
     "output_type": "execute_result"
    }
   ],
   "source": [
    "covid_data.head(5)"
   ]
  },
  {
   "cell_type": "markdown",
   "metadata": {},
   "source": [
    "The first metric we wil be analyzing is the number of cases for each neighborhood. This is possibly the most important factor, perhaps even above deaths, for each neighborhood: deaths scale with cases, so the more cases, the more deaths. While most neighborhoods at least have one case, there are a handful that have none."
   ]
  },
  {
   "cell_type": "code",
   "execution_count": 5,
   "metadata": {},
   "outputs": [
    {
     "data": {
      "text/html": [
       "<div>\n",
       "<style scoped>\n",
       "    .dataframe tbody tr th:only-of-type {\n",
       "        vertical-align: middle;\n",
       "    }\n",
       "\n",
       "    .dataframe tbody tr th {\n",
       "        vertical-align: top;\n",
       "    }\n",
       "\n",
       "    .dataframe thead th {\n",
       "        text-align: right;\n",
       "    }\n",
       "</style>\n",
       "<table border=\"1\" class=\"dataframe\">\n",
       "  <thead>\n",
       "    <tr style=\"text-align: right;\">\n",
       "      <th></th>\n",
       "      <th>cases</th>\n",
       "    </tr>\n",
       "    <tr>\n",
       "      <th>neighborhood_municipality</th>\n",
       "      <th></th>\n",
       "    </tr>\n",
       "  </thead>\n",
       "  <tbody>\n",
       "    <tr>\n",
       "      <th>Chateau (Pittsburgh)</th>\n",
       "      <td>0</td>\n",
       "    </tr>\n",
       "    <tr>\n",
       "      <th>Undefined (Pittsburgh)</th>\n",
       "      <td>0</td>\n",
       "    </tr>\n",
       "    <tr>\n",
       "      <th>Trafford</th>\n",
       "      <td>0</td>\n",
       "    </tr>\n",
       "    <tr>\n",
       "      <th>Mt. Oliver (Pittsburgh)</th>\n",
       "      <td>0</td>\n",
       "    </tr>\n",
       "    <tr>\n",
       "      <th>St. Clair (Pittsburgh)</th>\n",
       "      <td>0</td>\n",
       "    </tr>\n",
       "    <tr>\n",
       "      <th>Arlington Heights (Pittsburgh)</th>\n",
       "      <td>1</td>\n",
       "    </tr>\n",
       "    <tr>\n",
       "      <th>Mcdonald</th>\n",
       "      <td>3</td>\n",
       "    </tr>\n",
       "    <tr>\n",
       "      <th>Rosslyn Farms</th>\n",
       "      <td>3</td>\n",
       "    </tr>\n",
       "    <tr>\n",
       "      <th>Chartiers City (Pittsburgh)</th>\n",
       "      <td>3</td>\n",
       "    </tr>\n",
       "    <tr>\n",
       "      <th>South Shore (Pittsburgh)</th>\n",
       "      <td>3</td>\n",
       "    </tr>\n",
       "  </tbody>\n",
       "</table>\n",
       "</div>"
      ],
      "text/plain": [
       "                                cases\n",
       "neighborhood_municipality            \n",
       "Chateau (Pittsburgh)                0\n",
       "Undefined (Pittsburgh)              0\n",
       "Trafford                            0\n",
       "Mt. Oliver (Pittsburgh)             0\n",
       "St. Clair (Pittsburgh)              0\n",
       "Arlington Heights (Pittsburgh)      1\n",
       "Mcdonald                            3\n",
       "Rosslyn Farms                       3\n",
       "Chartiers City (Pittsburgh)         3\n",
       "South Shore (Pittsburgh)            3"
      ]
     },
     "execution_count": 5,
     "metadata": {},
     "output_type": "execute_result"
    }
   ],
   "source": [
    "covid_data[['cases']].sort_values('cases').head(10)"
   ]
  },
  {
   "cell_type": "markdown",
   "metadata": {},
   "source": [
    "The second metric we will be analyzing is the number of deaths. A neighborhood with a high number of Covid-19 deaths will struggle to call itself the best in the city, thus, the best neighborhood should have few or no deaths. As many neighborhoods have very few cases, there are many neighborhoods that have no deaths."
   ]
  },
  {
   "cell_type": "code",
   "execution_count": 6,
   "metadata": {},
   "outputs": [
    {
     "data": {
      "text/html": [
       "<div>\n",
       "<style scoped>\n",
       "    .dataframe tbody tr th:only-of-type {\n",
       "        vertical-align: middle;\n",
       "    }\n",
       "\n",
       "    .dataframe tbody tr th {\n",
       "        vertical-align: top;\n",
       "    }\n",
       "\n",
       "    .dataframe thead th {\n",
       "        text-align: right;\n",
       "    }\n",
       "</style>\n",
       "<table border=\"1\" class=\"dataframe\">\n",
       "  <thead>\n",
       "    <tr style=\"text-align: right;\">\n",
       "      <th></th>\n",
       "      <th>deaths</th>\n",
       "    </tr>\n",
       "    <tr>\n",
       "      <th>neighborhood_municipality</th>\n",
       "      <th></th>\n",
       "    </tr>\n",
       "  </thead>\n",
       "  <tbody>\n",
       "    <tr>\n",
       "      <th>Aleppo</th>\n",
       "      <td>0</td>\n",
       "    </tr>\n",
       "    <tr>\n",
       "      <th>Lower Lawrenceville (Pittsburgh)</th>\n",
       "      <td>0</td>\n",
       "    </tr>\n",
       "    <tr>\n",
       "      <th>Marshall</th>\n",
       "      <td>0</td>\n",
       "    </tr>\n",
       "    <tr>\n",
       "      <th>Marshall-Shadeland (Pittsburgh)</th>\n",
       "      <td>0</td>\n",
       "    </tr>\n",
       "    <tr>\n",
       "      <th>Mcdonald</th>\n",
       "      <td>0</td>\n",
       "    </tr>\n",
       "    <tr>\n",
       "      <th>Mckees rocks</th>\n",
       "      <td>0</td>\n",
       "    </tr>\n",
       "    <tr>\n",
       "      <th>Middle Hill (Pittsburgh)</th>\n",
       "      <td>0</td>\n",
       "    </tr>\n",
       "    <tr>\n",
       "      <th>Mt. Oliver (Pittsburgh)</th>\n",
       "      <td>0</td>\n",
       "    </tr>\n",
       "    <tr>\n",
       "      <th>New Homestead (Pittsburgh)</th>\n",
       "      <td>0</td>\n",
       "    </tr>\n",
       "    <tr>\n",
       "      <th>North Braddock</th>\n",
       "      <td>0</td>\n",
       "    </tr>\n",
       "  </tbody>\n",
       "</table>\n",
       "</div>"
      ],
      "text/plain": [
       "                                  deaths\n",
       "neighborhood_municipality               \n",
       "Aleppo                                 0\n",
       "Lower Lawrenceville (Pittsburgh)       0\n",
       "Marshall                               0\n",
       "Marshall-Shadeland (Pittsburgh)        0\n",
       "Mcdonald                               0\n",
       "Mckees rocks                           0\n",
       "Middle Hill (Pittsburgh)               0\n",
       "Mt. Oliver (Pittsburgh)                0\n",
       "New Homestead (Pittsburgh)             0\n",
       "North Braddock                         0"
      ]
     },
     "execution_count": 6,
     "metadata": {},
     "output_type": "execute_result"
    }
   ],
   "source": [
    "covid_data[['deaths']].sort_values('deaths').head(10)"
   ]
  },
  {
   "cell_type": "markdown",
   "metadata": {},
   "source": [
    "The third and last metric we will be analyzing is the number of individuals tested. This metric is, in my opinion, the least important. A neighborhood that has more actual cases will be more likely to have more tests as contact-tracing goes underway and networks of people who have interacted with an infected individual receive tests. In addition, someone with symptoms will be likely to the doctor and have a test taken. \n",
    "\n",
    "However, there should still be testing occurring even if there are few cases in a neighborhood. Thus, while this is the least important metric in my opinion, it should still be considered."
   ]
  },
  {
   "cell_type": "code",
   "execution_count": 7,
   "metadata": {},
   "outputs": [
    {
     "data": {
      "text/html": [
       "<div>\n",
       "<style scoped>\n",
       "    .dataframe tbody tr th:only-of-type {\n",
       "        vertical-align: middle;\n",
       "    }\n",
       "\n",
       "    .dataframe tbody tr th {\n",
       "        vertical-align: top;\n",
       "    }\n",
       "\n",
       "    .dataframe thead th {\n",
       "        text-align: right;\n",
       "    }\n",
       "</style>\n",
       "<table border=\"1\" class=\"dataframe\">\n",
       "  <thead>\n",
       "    <tr style=\"text-align: right;\">\n",
       "      <th></th>\n",
       "      <th>indv_tested</th>\n",
       "    </tr>\n",
       "    <tr>\n",
       "      <th>neighborhood_municipality</th>\n",
       "      <th></th>\n",
       "    </tr>\n",
       "  </thead>\n",
       "  <tbody>\n",
       "    <tr>\n",
       "      <th>Mount Lebanon</th>\n",
       "      <td>9939</td>\n",
       "    </tr>\n",
       "    <tr>\n",
       "      <th>Penn Hills</th>\n",
       "      <td>7092</td>\n",
       "    </tr>\n",
       "    <tr>\n",
       "      <th>Ross</th>\n",
       "      <td>5725</td>\n",
       "    </tr>\n",
       "    <tr>\n",
       "      <th>Monroeville</th>\n",
       "      <td>5695</td>\n",
       "    </tr>\n",
       "    <tr>\n",
       "      <th>McCandless</th>\n",
       "      <td>5128</td>\n",
       "    </tr>\n",
       "    <tr>\n",
       "      <th>Bethel Park</th>\n",
       "      <td>4974</td>\n",
       "    </tr>\n",
       "    <tr>\n",
       "      <th>Baldwin Borough</th>\n",
       "      <td>4289</td>\n",
       "    </tr>\n",
       "    <tr>\n",
       "      <th>Shaler</th>\n",
       "      <td>4253</td>\n",
       "    </tr>\n",
       "    <tr>\n",
       "      <th>Plum</th>\n",
       "      <td>4151</td>\n",
       "    </tr>\n",
       "    <tr>\n",
       "      <th>Moon</th>\n",
       "      <td>3861</td>\n",
       "    </tr>\n",
       "  </tbody>\n",
       "</table>\n",
       "</div>"
      ],
      "text/plain": [
       "                           indv_tested\n",
       "neighborhood_municipality             \n",
       "Mount Lebanon                     9939\n",
       "Penn Hills                        7092\n",
       "Ross                              5725\n",
       "Monroeville                       5695\n",
       "McCandless                        5128\n",
       "Bethel Park                       4974\n",
       "Baldwin Borough                   4289\n",
       "Shaler                            4253\n",
       "Plum                              4151\n",
       "Moon                              3861"
      ]
     },
     "execution_count": 7,
     "metadata": {},
     "output_type": "execute_result"
    }
   ],
   "source": [
    "covid_data[['indv_tested']].sort_values('indv_tested').tail(10).iloc[::-1]"
   ]
  },
  {
   "cell_type": "markdown",
   "metadata": {},
   "source": [
    "In accordance with the comparative importance of these three metrics for Covid-19 described above, we will assign a score from 0 to 1 to each neighborhood. The number of cases will constitute 50% of this score; the number of deaths, 40%; and the number of tests, 10%.\n",
    "\n",
    "The score for each neighborhood's cases is scaled so that the neighborhood with the most cases has a score of 0, and a neighborhood with no cases has the maximum score. The score for each neighborhood's deaths is calculated in the same way. The score for each neighborhood's testing is calculated so that the neighborhood with the largest number of tests receives the highest score."
   ]
  },
  {
   "cell_type": "code",
   "execution_count": 8,
   "metadata": {},
   "outputs": [],
   "source": [
    "cases_max = covid_data['cases'].max()\n",
    "deaths_max = covid_data['deaths'].max()\n",
    "testing_max = covid_data['indv_tested'].max()"
   ]
  },
  {
   "cell_type": "code",
   "execution_count": 9,
   "metadata": {},
   "outputs": [
    {
     "data": {
      "text/plain": [
       "{'Aleppo': 0.8951954977309641,\n",
       " 'Allegheny Center (Pittsburgh)': 0.8870519258385241,\n",
       " 'Allegheny West (Pittsburgh)': 0.8989221262689419,\n",
       " 'Allentown (Pittsburgh)': 0.879772325471088,\n",
       " 'Arlington (Pittsburgh)': 0.8735946851552043,\n",
       " 'Arlington Heights (Pittsburgh)': 0.890740965778696,\n",
       " 'Aspinwall': 0.8905072021582737,\n",
       " 'Avalon': 0.8392481147989751,\n",
       " 'Baldwin Borough': 0.33406232564095534,\n",
       " 'Baldwin Township': 0.8729737981775411,\n",
       " 'Banksville (Pittsburgh)': 0.7353122880741354,\n",
       " 'Bedford Dwellings (Pittsburgh)': 0.8681284841864377,\n",
       " 'Beechview (Pittsburgh)': 0.8510047654327763,\n",
       " 'Bell Acres': 0.8946262242972174,\n",
       " 'Bellevue': 0.8407343235293734,\n",
       " 'Beltzhoover (Pittsburgh)': 0.8726618955716452,\n",
       " 'Ben Avon': 0.8901118903231792,\n",
       " 'Ben Avon Heights': 0.8971169153481258,\n",
       " 'Bethel Park': 0.6842444103838611,\n",
       " 'Blawnox': 0.8815383362319673,\n",
       " 'Bloomfield (Pittsburgh)': 0.841889813577106,\n",
       " 'Bluff (Pittsburgh)': 0.849260140536929,\n",
       " 'Bon Air (Pittsburgh)': 0.896546335242381,\n",
       " 'Brackenridge': 0.8631648728237923,\n",
       " 'Braddock': 0.8817183956332765,\n",
       " 'Braddock Hills': 0.8842593935561035,\n",
       " 'Bradford Woods': 0.8910287820640975,\n",
       " 'Brentwood': 0.7719143049659198,\n",
       " 'Bridgeville': 0.8625987789585738,\n",
       " 'Brighton Heights (Pittsburgh)': 0.8392153608875613,\n",
       " 'Brookline (Pittsburgh)': 0.777459428923359,\n",
       " 'California-Kirkbride (Pittsburgh)': 0.8835389381722011,\n",
       " 'Carnegie': 0.8389979306671127,\n",
       " 'Carrick (Pittsburgh)': 0.7587469712431983,\n",
       " 'Castle Shannon': 0.7828204427962956,\n",
       " 'Central Business District (Pittsburgh)': 0.8524721145306717,\n",
       " 'Central Lawrenceville (Pittsburgh)': 0.811114900459905,\n",
       " 'Central Northside (Pittsburgh)': 0.8721493317026067,\n",
       " 'Central Oakland (Pittsburgh)': 0.7285495635933307,\n",
       " 'Chalfant': 0.8779983440110214,\n",
       " 'Chartiers City (Pittsburgh)': 0.898569978165511,\n",
       " 'Chateau (Pittsburgh)': 0.9002213502364423,\n",
       " 'Cheswick': 0.8899006014611206,\n",
       " 'Churchill': 0.8696093791173779,\n",
       " 'Clairton': 0.8022239121846728,\n",
       " 'Collier': 0.8310299319354557,\n",
       " 'Coraopolis': 0.8142007806058515,\n",
       " 'Crafton': 0.8151516022629817,\n",
       " 'Crafton Heights (Pittsburgh)': 0.8544983707977973,\n",
       " 'Crawford-Roberts (Pittsburgh)': 0.8516851930978101,\n",
       " 'Crescent': 0.8628494857592353,\n",
       " 'Dormont': 0.8294256871679148,\n",
       " 'Dravosburg': 0.8909512093031562,\n",
       " 'Duquesne': 0.8043100140293017,\n",
       " 'Duquesne Heights (Pittsburgh)': 0.8908888374931236,\n",
       " 'East Allegheny (Pittsburgh)': 0.8624356627375039,\n",
       " 'East Carnegie (Pittsburgh)': 0.8988215125251044,\n",
       " 'East Deer': 0.8952902750065442,\n",
       " 'East Hills (Pittsburgh)': 0.8579689787356555,\n",
       " 'East Liberty (Pittsburgh)': 0.8214899632346057,\n",
       " 'East Mckeesport': 0.8710205848750974,\n",
       " 'East Pittsburgh': 0.8871856419396413,\n",
       " 'Edgewood': 0.8860188274012603,\n",
       " 'Edgeworth': 0.891776242002623,\n",
       " 'Elizabeth Borough': 0.887692935564955,\n",
       " 'Elizabeth Township': 0.767219127587374,\n",
       " 'Elliott (Pittsburgh)': 0.8868967803166414,\n",
       " 'Emsworth': 0.8833496449554403,\n",
       " 'Esplen (Pittsburgh)': 0.8981272776926263,\n",
       " 'Etna': 0.8767168907826922,\n",
       " 'Fairywood (Pittsburgh)': 0.8759633330415099,\n",
       " 'Fawn': 0.880513948941356,\n",
       " 'Findlay': 0.8299967463867254,\n",
       " 'Fineview (Pittsburgh)': 0.8917804669087495,\n",
       " 'Forest Hills': 0.8712973380042502,\n",
       " 'Forward': 0.8856046994893962,\n",
       " 'Fox Chapel': 0.8419427337930205,\n",
       " 'Franklin Park': 0.7883274990428628,\n",
       " 'Frazer': 0.8930524249872273,\n",
       " 'Friendship (Pittsburgh)': 0.895275988726034,\n",
       " 'Garfield (Pittsburgh)': 0.8544030708534179,\n",
       " 'Glassport': 0.8571455575983195,\n",
       " 'Glen Hazel (Pittsburgh)': 0.6430464796296369,\n",
       " 'Glen Osborne': 0.8972778973382656,\n",
       " 'Glenfield': 0.8974359610942769,\n",
       " 'Green Tree': 0.8526211622498976,\n",
       " 'Greenfield (Pittsburgh)': 0.8218217272548695,\n",
       " 'Hampton': 0.72877688096523,\n",
       " 'Harmar': 0.8791358455409165,\n",
       " 'Harrison': 0.8259376133810181,\n",
       " 'Hays (Pittsburgh)': 0.8954223795455307,\n",
       " 'Haysville': 0.8979662957024865,\n",
       " 'Hazelwood (Pittsburgh)': 0.8663098145440433,\n",
       " 'Heidelberg': 0.8968309719592544,\n",
       " 'Highland Park (Pittsburgh)': 0.8233227449345771,\n",
       " 'Homestead': 0.8699789930698473,\n",
       " 'Homewood North (Pittsburgh)': 0.8713486466580339,\n",
       " 'Homewood South (Pittsburgh)': 0.8846446440168142,\n",
       " 'Homewood West (Pittsburgh)': 0.8925694790168077,\n",
       " 'Indiana': 0.8466543316830066,\n",
       " 'Ingram': 0.8652374723911096,\n",
       " 'Jefferson Hills': 0.6472228646692879,\n",
       " 'Kennedy': 0.619758405058737,\n",
       " 'Kilbuck': 0.8961769826243113,\n",
       " 'Knoxville (Pittsburgh)': 0.8661501392259013,\n",
       " 'Larimer (Pittsburgh)': 0.8851032423323398,\n",
       " 'Leet': 0.8919515102732731,\n",
       " 'Leetsdale': 0.8956969548880204,\n",
       " 'Liberty': 0.8840610843025573,\n",
       " 'Lincoln': 0.8906162657143641,\n",
       " 'Lincoln Place (Pittsburgh)': 0.8722681952986813,\n",
       " 'Lincoln-Lemington-Belmar (Pittsburgh)': 0.8486096356606468,\n",
       " 'Lower Lawrenceville (Pittsburgh)': 0.8791371522129143,\n",
       " 'Manchester (Pittsburgh)': 0.8550294894092058,\n",
       " 'Marshall': 0.8568458941534703,\n",
       " 'Marshall-Shadeland (Pittsburgh)': 0.8668573536668919,\n",
       " 'McCandless': 0.5642931405382355,\n",
       " 'McKeesport': 0.6406730841684057,\n",
       " 'Mcdonald': 0.8981876459389289,\n",
       " 'Mckees rocks': 0.8645422357767665,\n",
       " 'Middle Hill (Pittsburgh)': 0.8849607715288368,\n",
       " 'Millvale': 0.8783680015192239,\n",
       " 'Monroeville': 0.5342115040273809,\n",
       " 'Moon': 0.5980100256586824,\n",
       " 'Morningside (Pittsburgh)': 0.8734080488381727,\n",
       " 'Mount Lebanon': 0.6437229437229438,\n",
       " 'Mount Oliver Borough': 0.8441325853942817,\n",
       " 'Mount Washington (Pittsburgh)': 0.7742236299435212,\n",
       " 'Mt. Oliver (Pittsburgh)': 0.900583559714257,\n",
       " 'Munhall': 0.819057549754803,\n",
       " 'Neville': 0.8867469050384837,\n",
       " 'New Homestead (Pittsburgh)': 0.8850354260556494,\n",
       " 'North Braddock': 0.8679008183686723,\n",
       " 'North Fayette': 0.7804208703393732,\n",
       " 'North Oakland (Pittsburgh)': 0.8540679530416928,\n",
       " 'North Shore (Pittsburgh)': 0.8919515102732731,\n",
       " 'North Versailles': 0.8144696065915504,\n",
       " 'Northview Heights (Pittsburgh)': 0.8626853242005673,\n",
       " \"O'Hara\": 0.8220902483504355,\n",
       " 'Oakdale': 0.8924445176180764,\n",
       " 'Oakmont': 0.8543327718999316,\n",
       " 'Oakwood (Pittsburgh)': 0.8940728487061116,\n",
       " 'Ohio': 0.8489983270242855,\n",
       " 'Overbrook (Pittsburgh)': 0.8662404302609554,\n",
       " 'Penn Hills': 0.5383105340847569,\n",
       " 'Pennsbury Village': 0.8955862797697993,\n",
       " 'Perry North (Pittsburgh)': 0.8508763195753839,\n",
       " 'Perry South (Pittsburgh)': 0.8532079015326827,\n",
       " 'Pine': 0.7847967841931017,\n",
       " 'Pitcairn': 0.8616135482721659,\n",
       " 'Pleasant Hills': 0.7822016900495621,\n",
       " 'Plum': 0.6807258040279472,\n",
       " 'Point Breeze (Pittsburgh)': 0.8729614283492944,\n",
       " 'Point Breeze North (Pittsburgh)': 0.8871311101615962,\n",
       " 'Polish Hill (Pittsburgh)': 0.8997500772025373,\n",
       " 'Port Vue': 0.8683848096766902,\n",
       " 'Rankin': 0.8843600072999409,\n",
       " 'Regent Square (Pittsburgh)': 0.8887432820725909,\n",
       " 'Reserve': 0.8570962960639991,\n",
       " 'Richland': 0.49124921763014123,\n",
       " 'Ridgemont (Pittsburgh)': 0.8998938546780382,\n",
       " 'Robinson': 0.7693993098158508,\n",
       " 'Ross': 0.18674999749554533,\n",
       " 'Rosslyn Farms': 0.8983486279290687,\n",
       " 'Scott': 0.45685560708198797,\n",
       " 'Sewickley': 0.8772845526543082,\n",
       " 'Sewickley Heights': 0.91650579356586,\n",
       " 'Sewickley Hills': 0.8973483269589518,\n",
       " 'Shadyside (Pittsburgh)': 0.6304269463641634,\n",
       " 'Shaler': 0.6657347481977727,\n",
       " 'Sharpsburg': 0.8757507375074536,\n",
       " 'Sheraden (Pittsburgh)': 0.8605979156839405,\n",
       " 'South Fayette': 0.727213883477089,\n",
       " 'South Oakland (Pittsburgh)': 0.8263595813248695,\n",
       " 'South Park': 0.8146570704675141,\n",
       " 'South Shore (Pittsburgh)': 0.8983586893034524,\n",
       " 'South Versailles': 0.8969760561067533,\n",
       " 'Southside Flats (Pittsburgh)': 0.7241766986409305,\n",
       " 'Southside Slopes (Pittsburgh)': 0.8430909935890316,\n",
       " 'Spring Garden (Pittsburgh)': 0.8955158501491131,\n",
       " 'Spring Hill-City View (Pittsburgh)': 0.882807942300849,\n",
       " 'Springdale Borough': 0.884617116793392,\n",
       " 'Springdale Township': 0.8945184674131249,\n",
       " 'Squirrel Hill North (Pittsburgh)': 0.8384386750520164,\n",
       " 'Squirrel Hill South (Pittsburgh)': 0.7459992098989986,\n",
       " 'St. Clair (Pittsburgh)': 0.900271657108361,\n",
       " 'Stanton Heights (Pittsburgh)': 0.8684097235561167,\n",
       " 'Stowe': 0.8055549675531566,\n",
       " 'Strip District (Pittsburgh)': 0.8886919298630739,\n",
       " 'Summer Hill (Pittsburgh)': 0.8914685643028535,\n",
       " 'Swisshelm Park (Pittsburgh)': 0.891152436790831,\n",
       " 'Swissvale': 0.8467104750231825,\n",
       " 'Tarentum': 0.8720786407475208,\n",
       " 'Terrace Village (Pittsburgh)': 0.8792491340031334,\n",
       " 'Thornburg': 0.895724220777043,\n",
       " 'Trafford': 0.9000503068719188,\n",
       " 'Troy Hill (Pittsburgh)': 0.8866540006594338,\n",
       " 'Turtle Creek': 0.8019710275973482,\n",
       " 'Undefined': 0.7399921773903061,\n",
       " 'Undefined (Pittsburgh)': 0.9000201227487675,\n",
       " 'Upper Hill (Pittsburgh)': 0.8838124681770924,\n",
       " 'Upper Lawrenceville (Pittsburgh)': 0.8910664142176367,\n",
       " 'Upper Saint Clair': 0.6785933153273932,\n",
       " 'Verona': 0.888322577245004,\n",
       " 'Versailles': 0.8822227710244613,\n",
       " 'Wall': 0.8851400033712138,\n",
       " 'West Deer': 0.8613563081115149,\n",
       " 'West Elizabeth': 0.897586881710033,\n",
       " 'West End (Pittsburgh)': 0.8982379528108475,\n",
       " 'West Homestead': 0.8785980629023189,\n",
       " 'West Mifflin': 0.7290299833312208,\n",
       " 'West Oakland (Pittsburgh)': 0.8495209522677074,\n",
       " 'West View': 0.8605394203341683,\n",
       " 'Westwood (Pittsburgh)': 0.8581432016687073,\n",
       " 'Whitaker': 0.868437468558205,\n",
       " 'White Oak': 0.8445078180363421,\n",
       " 'Whitehall': 0.5523769452534921,\n",
       " 'Wilkins': 0.8680692483892002,\n",
       " 'Wilkinsburg': 0.7030353119396282,\n",
       " 'Wilmerding': 0.887635485552781,\n",
       " 'Windgap (Pittsburgh)': 0.8896964557393172}"
      ]
     },
     "execution_count": 9,
     "metadata": {},
     "output_type": "execute_result"
    }
   ],
   "source": [
    "scores = {}\n",
    "for index, row in covid_data.iterrows():\n",
    "    cases_score = 0.5 * (1 - (row['cases'] / cases_max)) # 50%\n",
    "    deaths_score = 0.4 * (1 - (row['deaths'] / deaths_max)) # 40%\n",
    "    testing_score = 0.1 * (row['indv_tested'] / testing_max) # 10%\n",
    "    scores[index] = cases_score + deaths_score + testing_score\n",
    "scores"
   ]
  },
  {
   "cell_type": "code",
   "execution_count": 10,
   "metadata": {},
   "outputs": [],
   "source": [
    "scores_df = pd.DataFrame.from_dict(scores, orient='index', columns=['score'])"
   ]
  },
  {
   "cell_type": "markdown",
   "metadata": {},
   "source": [
    "According to these scores, the following neighborhoods are the best neighborhoods in Pittsburgh according to this Covid-19 metric."
   ]
  },
  {
   "cell_type": "code",
   "execution_count": 11,
   "metadata": {},
   "outputs": [
    {
     "data": {
      "text/plain": [
       "<AxesSubplot:>"
      ]
     },
     "execution_count": 11,
     "metadata": {},
     "output_type": "execute_result"
    },
    {
     "data": {
      "image/png": "[encoded data removed]",
      "text/plain": [
       "<Figure size 720x720 with 1 Axes>"
      ]
     },
     "metadata": {
      "needs_background": "light"
     },
     "output_type": "display_data"
    }
   ],
   "source": [
    "scores_df.sort_values('score').tail(20).plot(kind=\"bar\",figsize=(10,10))"
   ]
  },
  {
   "cell_type": "markdown",
   "metadata": {},
   "source": [
    "By a fair margin, Sewickley Heights has handled Covid-19 the best out of any neighborhood in Pittsburgh."
   ]
  },
  {
   "cell_type": "markdown",
   "metadata": {},
   "source": [
    "Out of curiosity, as I'm currently living on campus, here is the score for the different Oakland neighborhoods, compared to the top few neighborhoods"
   ]
  },
  {
   "cell_type": "code",
   "execution_count": 12,
   "metadata": {},
   "outputs": [
    {
     "data": {
      "text/html": [
       "<div>\n",
       "<style scoped>\n",
       "    .dataframe tbody tr th:only-of-type {\n",
       "        vertical-align: middle;\n",
       "    }\n",
       "\n",
       "    .dataframe tbody tr th {\n",
       "        vertical-align: top;\n",
       "    }\n",
       "\n",
       "    .dataframe thead th {\n",
       "        text-align: right;\n",
       "    }\n",
       "</style>\n",
       "<table border=\"1\" class=\"dataframe\">\n",
       "  <thead>\n",
       "    <tr style=\"text-align: right;\">\n",
       "      <th></th>\n",
       "      <th>score</th>\n",
       "    </tr>\n",
       "  </thead>\n",
       "  <tbody>\n",
       "    <tr>\n",
       "      <th>Central Oakland (Pittsburgh)</th>\n",
       "      <td>0.728550</td>\n",
       "    </tr>\n",
       "    <tr>\n",
       "      <th>North Oakland (Pittsburgh)</th>\n",
       "      <td>0.854068</td>\n",
       "    </tr>\n",
       "    <tr>\n",
       "      <th>South Oakland (Pittsburgh)</th>\n",
       "      <td>0.826360</td>\n",
       "    </tr>\n",
       "    <tr>\n",
       "      <th>West Oakland (Pittsburgh)</th>\n",
       "      <td>0.849521</td>\n",
       "    </tr>\n",
       "  </tbody>\n",
       "</table>\n",
       "</div>"
      ],
      "text/plain": [
       "                                 score\n",
       "Central Oakland (Pittsburgh)  0.728550\n",
       "North Oakland (Pittsburgh)    0.854068\n",
       "South Oakland (Pittsburgh)    0.826360\n",
       "West Oakland (Pittsburgh)     0.849521"
      ]
     },
     "execution_count": 12,
     "metadata": {},
     "output_type": "execute_result"
    }
   ],
   "source": [
    "scores_df[['Oakland' in s for s in scores_df.index]]"
   ]
  },
  {
   "cell_type": "code",
   "execution_count": 13,
   "metadata": {},
   "outputs": [
    {
     "data": {
      "text/html": [
       "<div>\n",
       "<style scoped>\n",
       "    .dataframe tbody tr th:only-of-type {\n",
       "        vertical-align: middle;\n",
       "    }\n",
       "\n",
       "    .dataframe tbody tr th {\n",
       "        vertical-align: top;\n",
       "    }\n",
       "\n",
       "    .dataframe thead th {\n",
       "        text-align: right;\n",
       "    }\n",
       "</style>\n",
       "<table border=\"1\" class=\"dataframe\">\n",
       "  <thead>\n",
       "    <tr style=\"text-align: right;\">\n",
       "      <th></th>\n",
       "      <th>score</th>\n",
       "    </tr>\n",
       "  </thead>\n",
       "  <tbody>\n",
       "    <tr>\n",
       "      <th>Sewickley Heights</th>\n",
       "      <td>0.916506</td>\n",
       "    </tr>\n",
       "    <tr>\n",
       "      <th>Mt. Oliver (Pittsburgh)</th>\n",
       "      <td>0.900584</td>\n",
       "    </tr>\n",
       "    <tr>\n",
       "      <th>St. Clair (Pittsburgh)</th>\n",
       "      <td>0.900272</td>\n",
       "    </tr>\n",
       "    <tr>\n",
       "      <th>Chateau (Pittsburgh)</th>\n",
       "      <td>0.900221</td>\n",
       "    </tr>\n",
       "    <tr>\n",
       "      <th>Trafford</th>\n",
       "      <td>0.900050</td>\n",
       "    </tr>\n",
       "  </tbody>\n",
       "</table>\n",
       "</div>"
      ],
      "text/plain": [
       "                            score\n",
       "Sewickley Heights        0.916506\n",
       "Mt. Oliver (Pittsburgh)  0.900584\n",
       "St. Clair (Pittsburgh)   0.900272\n",
       "Chateau (Pittsburgh)     0.900221\n",
       "Trafford                 0.900050"
      ]
     },
     "execution_count": 13,
     "metadata": {},
     "output_type": "execute_result"
    }
   ],
   "source": [
    "scores_df.sort_values('score').tail(5).iloc[::-1]"
   ]
  },
  {
   "cell_type": "markdown",
   "metadata": {},
   "source": [
    "As you can see, most parts of Oakland have done comparably well to the top few neighborhoods with the exception of Central Oakland, which has definitely struggled a bit more."
   ]
  },
  {
   "cell_type": "markdown",
   "metadata": {},
   "source": [
    "# Conclusion\n",
    "My personal favorite neighborhood since moving on campus is definitely Oakland. The \"best neighborhood\" from my data, however, is Sewickley Heights. I'm not particularly surprised or disappointed by this outcome; I didn't expect Oakland to win on this metric, and apparently Sewickley Heights is one of the wealthiest neighborhoods in the state and has a relatively low population, so this outcome is not particularly surprising."
   ]
  }
 ],
 "metadata": {
  "kernelspec": {
   "display_name": "Python 3",
   "language": "python",
   "name": "python3"
  },
  "language_info": {
   "codemirror_mode": {
    "name": "ipython",
    "version": 3
   },
   "file_extension": ".py",
   "mimetype": "text/x-python",
   "name": "python",
   "nbconvert_exporter": "python",
   "pygments_lexer": "ipython3",
   "version": "3.8.6"
  }
 },
 "nbformat": 4,
 "nbformat_minor": 4
}
