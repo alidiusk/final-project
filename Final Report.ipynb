{
 "cells": [
  {
   "cell_type": "markdown",
   "metadata": {},
   "source": [
    "# Final Report\n",
    "By: Liam Woodward | James Rabuzzi | Matthew Kennedy\n",
    "\n",
    "## Introduction\n",
    "\n",
    "For our project, we used Covid-19 data and Public Art data as our metrics to determine the best neighborhood in Pittsburgh. We decided to use Covid-19 data because the Covid-19 pandemic is one of the most prominent issues currently, and any neighborhood that purports to be the best must be handling Covid-19 well. Public art was chosen as a metric because it would be unique and was a way to measure culture in neighborhoods.\n",
    "\n",
    "We combined these different metrics by assigning weights to each one and calculating a score for each neighborhood.\n",
    "\n",
    "We also considered using air quality and fire incidents as metrics, but determined that analyzing this data would have been too complicated."
   ]
  },
  {
   "cell_type": "markdown",
   "metadata": {},
   "source": [
    "## Our Metric"
   ]
  },
  {
   "cell_type": "markdown",
   "metadata": {},
   "source": [
    "### Covid-19 Data\n",
    "\n",
    "Our approach to using the Covid-19 data was to weigh the cases, deaths, and individuals tested and determine an overall score for each neighborhood.\n",
    "\n",
    "We start by importing pandas and numpy."
   ]
  },
  {
   "cell_type": "code",
   "execution_count": 1,
   "metadata": {},
   "outputs": [],
   "source": [
    "import pandas as pd\n",
    "import numpy as np\n",
    "%matplotlib inline"
   ]
  },
  {
   "cell_type": "markdown",
   "metadata": {},
   "source": [
    "Next, we retrieve the latest Covid-19 data from the WPRDC."
   ]
  },
  {
   "cell_type": "code",
   "execution_count": 2,
   "metadata": {},
   "outputs": [],
   "source": [
    "covid_data = pd.read_csv(\"https://data.wprdc.org/datastore/dump/0f214885-ff3e-44e1-9963-e9e9062a04d1\",\n",
    "                         index_col=\"neighborhood_municipality\",\n",
    "                         parse_dates=True)"
   ]
  },
  {
   "cell_type": "markdown",
   "metadata": {},
   "source": [
    "This data includes every neighborhood, alongside the number of cases, deaths, and individuals tested to date, as you can see below."
   ]
  },
  {
   "cell_type": "code",
   "execution_count": 3,
   "metadata": {},
   "outputs": [
    {
     "data": {
      "text/html": [
       "<div>\n",
       "<style scoped>\n",
       "    .dataframe tbody tr th:only-of-type {\n",
       "        vertical-align: middle;\n",
       "    }\n",
       "\n",
       "    .dataframe tbody tr th {\n",
       "        vertical-align: top;\n",
       "    }\n",
       "\n",
       "    .dataframe thead th {\n",
       "        text-align: right;\n",
       "    }\n",
       "</style>\n",
       "<table border=\"1\" class=\"dataframe\">\n",
       "  <thead>\n",
       "    <tr style=\"text-align: right;\">\n",
       "      <th></th>\n",
       "      <th>indv_tested</th>\n",
       "      <th>cases</th>\n",
       "      <th>deaths</th>\n",
       "      <th>update_date</th>\n",
       "    </tr>\n",
       "    <tr>\n",
       "      <th>neighborhood_municipality</th>\n",
       "      <th></th>\n",
       "      <th></th>\n",
       "      <th></th>\n",
       "      <th></th>\n",
       "    </tr>\n",
       "  </thead>\n",
       "  <tbody>\n",
       "    <tr>\n",
       "      <th>Aleppo</th>\n",
       "      <td>389</td>\n",
       "      <td>14</td>\n",
       "      <td>0</td>\n",
       "      <td>2020-11-16</td>\n",
       "    </tr>\n",
       "    <tr>\n",
       "      <th>Allegheny Center (Pittsburgh)</th>\n",
       "      <td>233</td>\n",
       "      <td>23</td>\n",
       "      <td>0</td>\n",
       "      <td>2020-11-16</td>\n",
       "    </tr>\n",
       "    <tr>\n",
       "      <th>Allegheny West (Pittsburgh)</th>\n",
       "      <td>121</td>\n",
       "      <td>5</td>\n",
       "      <td>0</td>\n",
       "      <td>2020-11-16</td>\n",
       "    </tr>\n",
       "    <tr>\n",
       "      <th>Allentown (Pittsburgh)</th>\n",
       "      <td>374</td>\n",
       "      <td>38</td>\n",
       "      <td>0</td>\n",
       "      <td>2020-11-16</td>\n",
       "    </tr>\n",
       "    <tr>\n",
       "      <th>Arlington (Pittsburgh)</th>\n",
       "      <td>306</td>\n",
       "      <td>32</td>\n",
       "      <td>1</td>\n",
       "      <td>2020-11-16</td>\n",
       "    </tr>\n",
       "  </tbody>\n",
       "</table>\n",
       "</div>"
      ],
      "text/plain": [
       "                               indv_tested  cases  deaths update_date\n",
       "neighborhood_municipality                                            \n",
       "Aleppo                                 389     14       0  2020-11-16\n",
       "Allegheny Center (Pittsburgh)          233     23       0  2020-11-16\n",
       "Allegheny West (Pittsburgh)            121      5       0  2020-11-16\n",
       "Allentown (Pittsburgh)                 374     38       0  2020-11-16\n",
       "Arlington (Pittsburgh)                 306     32       1  2020-11-16"
      ]
     },
     "execution_count": 3,
     "metadata": {},
     "output_type": "execute_result"
    }
   ],
   "source": [
    "covid_data.head(5)"
   ]
  },
  {
   "cell_type": "markdown",
   "metadata": {},
   "source": [
    "In accordance with the comparative importance of these three metrics for Covid-19 described above, we will assign a score from 0 to 1 to each neighborhood. The number of cases will constitute 50% of this score; the number of deaths, 40%; and the number of tests, 10%.\n",
    "\n",
    "The scores are weighted this way because cases lead to more cases, and more cases lead to more deaths. Thus, the number of cases is more important than the number of deaths, as cases cause deaths. \n",
    "\n",
    "The score for each neighborhood's cases is scaled so that the neighborhood with the most cases has a score of 0, and a neighborhood with no cases has the maximum score. The score for each neighborhood's deaths is calculated in the same way. The score for each neighborhood's testing is calculated so that the neighborhood with the largest number of tests receives the highest score."
   ]
  },
  {
   "cell_type": "code",
   "execution_count": 4,
   "metadata": {},
   "outputs": [
    {
     "data": {
      "text/plain": [
       "{'Aleppo': 0.8946378065191067,\n",
       " 'Allegheny Center (Pittsburgh)': 0.887261212150421,\n",
       " 'Allegheny West (Pittsburgh)': 0.8979114397885084,\n",
       " 'Allentown (Pittsburgh)': 0.8788472830158496,\n",
       " 'Arlington (Pittsburgh)': 0.8735899655492783,\n",
       " 'Arlington Heights (Pittsburgh)': 0.8913987253323665,\n",
       " 'Aspinwall': 0.8866567467952398,\n",
       " 'Avalon': 0.8434761323591001,\n",
       " 'Baldwin Borough': 0.3410985838936953,\n",
       " 'Baldwin Township': 0.8742515328267227,\n",
       " 'Banksville (Pittsburgh)': 0.7418481759417165,\n",
       " 'Bedford Dwellings (Pittsburgh)': 0.870843442061848,\n",
       " 'Beechview (Pittsburgh)': 0.8329559719703493,\n",
       " 'Bell Acres': 0.8933543379924095,\n",
       " 'Bellevue': 0.8347039266592298,\n",
       " 'Beltzhoover (Pittsburgh)': 0.8732899849028684,\n",
       " 'Ben Avon': 0.8881030933193779,\n",
       " 'Ben Avon Heights': 0.8975146911916437,\n",
       " 'Bethel Park': 0.6670962428335305,\n",
       " 'Blawnox': 0.8800446780223011,\n",
       " 'Bloomfield (Pittsburgh)': 0.8394517465993632,\n",
       " 'Bluff (Pittsburgh)': 0.8365513239798551,\n",
       " 'Bon Air (Pittsburgh)': 0.8963463853574825,\n",
       " 'Brackenridge': 0.8463880614231594,\n",
       " 'Braddock': 0.8812287334450476,\n",
       " 'Braddock Hills': 0.8835011527624033,\n",
       " 'Bradford Woods': 0.8908822511934503,\n",
       " 'Brentwood': 0.763890511411357,\n",
       " 'Bridgeville': 0.8638360758489149,\n",
       " 'Brighton Heights (Pittsburgh)': 0.835005534823972,\n",
       " 'Brookline (Pittsburgh)': 0.7705975480130391,\n",
       " 'California-Kirkbride (Pittsburgh)': 0.8842727687868538,\n",
       " 'Carnegie': 0.8363447679322872,\n",
       " 'Carrick (Pittsburgh)': 0.7562966410636174,\n",
       " 'Castle Shannon': 0.7805275965073946,\n",
       " 'Central Business District (Pittsburgh)': 0.8497960934008799,\n",
       " 'Central Lawrenceville (Pittsburgh)': 0.8093270168478025,\n",
       " 'Central Northside (Pittsburgh)': 0.8611343911223602,\n",
       " 'Central Oakland (Pittsburgh)': 0.7307340057212948,\n",
       " 'Chalfant': 0.8786379975263546,\n",
       " 'Chartiers City (Pittsburgh)': 0.8987700881812142,\n",
       " 'Chateau (Pittsburgh)': 0.8995803525986925,\n",
       " 'Cheswick': 0.8910625650849628,\n",
       " 'Churchill': 0.8663240298107671,\n",
       " 'Clairton': 0.7997887168210067,\n",
       " 'Collier': 0.8332972461632834,\n",
       " 'Coraopolis': 0.8192462533376408,\n",
       " 'Crafton': 0.8176643141085579,\n",
       " 'Crafton Heights (Pittsburgh)': 0.8562140163897405,\n",
       " 'Crawford-Roberts (Pittsburgh)': 0.854372666361378,\n",
       " 'Crescent': 0.8642339008680973,\n",
       " 'Dormont': 0.8314700182051736,\n",
       " 'Dravosburg': 0.8888359433764925,\n",
       " 'Duquesne': 0.8099516770667763,\n",
       " 'Duquesne Heights (Pittsburgh)': 0.8857826685194302,\n",
       " 'East Allegheny (Pittsburgh)': 0.8645848518560767,\n",
       " 'East Carnegie (Pittsburgh)': 0.8990023312623058,\n",
       " 'East Deer': 0.8907819380286439,\n",
       " 'East Hills (Pittsburgh)': 0.8517476097505565,\n",
       " 'East Liberty (Pittsburgh)': 0.8157789665930213,\n",
       " 'East Mckeesport': 0.8719633051336277,\n",
       " 'East Pittsburgh': 0.8854471474145547,\n",
       " 'Edgewood': 0.8854936136937627,\n",
       " 'Edgeworth': 0.8929179233673531,\n",
       " 'Elizabeth Borough': 0.8884488715746732,\n",
       " 'Elizabeth Township': 0.7696097324318523,\n",
       " 'Elliott (Pittsburgh)': 0.8859019567816923,\n",
       " 'Emsworth': 0.8827683027052887,\n",
       " 'Esplen (Pittsburgh)': 0.8970502050294606,\n",
       " 'Etna': 0.8756413873117662,\n",
       " 'Fairywood (Pittsburgh)': 0.8705205038238413,\n",
       " 'Fawn': 0.8782534533037234,\n",
       " 'Findlay': 0.8289225523161782,\n",
       " 'Fineview (Pittsburgh)': 0.8921279713879755,\n",
       " 'Forest Hills': 0.8662217401627872,\n",
       " 'Forward': 0.8848013885128494,\n",
       " 'Fox Chapel': 0.8370722138661846,\n",
       " 'Franklin Park': 0.7720868743891874,\n",
       " 'Frazer': 0.8926347099446922,\n",
       " 'Friendship (Pittsburgh)': 0.8949474639605621,\n",
       " 'Garfield (Pittsburgh)': 0.8550403652195162,\n",
       " 'Glassport': 0.8571843410477845,\n",
       " 'Glen Hazel (Pittsburgh)': 0.6619174821845262,\n",
       " 'Glen Osborne': 0.8975921055520075,\n",
       " 'Glenfield': 0.8970598818245061,\n",
       " 'Green Tree': 0.8537726462814041,\n",
       " 'Greenfield (Pittsburgh)': 0.8217418488242111,\n",
       " 'Hampton': 0.725979128638335,\n",
       " 'Harmar': 0.8726396631516476,\n",
       " 'Harrison': 0.8208417305235193,\n",
       " 'Hays (Pittsburgh)': 0.8959109295804358,\n",
       " 'Haysville': 0.8981701268883944,\n",
       " 'Hazelwood (Pittsburgh)': 0.8670145686861941,\n",
       " 'Heidelberg': 0.896749265535041,\n",
       " 'Highland Park (Pittsburgh)': 0.8228765614237205,\n",
       " 'Homestead': 0.8695553518984812,\n",
       " 'Homewood North (Pittsburgh)': 0.8725764296486908,\n",
       " 'Homewood South (Pittsburgh)': 0.8827163735157096,\n",
       " 'Homewood West (Pittsburgh)': 0.8927446999045442,\n",
       " 'Indiana': 0.8407099613458088,\n",
       " 'Ingram': 0.8658410901193488,\n",
       " 'Jefferson Hills': 0.6557689627373893,\n",
       " 'Kennedy': 0.6354093131833447,\n",
       " 'Kilbuck': 0.8960235059066299,\n",
       " 'Knoxville (Pittsburgh)': 0.8666865165026575,\n",
       " 'Larimer (Pittsburgh)': 0.8724690260551807,\n",
       " 'Leet': 0.8903464822515973,\n",
       " 'Leetsdale': 0.8949326144328326,\n",
       " 'Liberty': 0.8822131801733446,\n",
       " 'Lincoln': 0.8910599787186207,\n",
       " 'Lincoln Place (Pittsburgh)': 0.8719078307296969,\n",
       " 'Lincoln-Lemington-Belmar (Pittsburgh)': 0.8492401295952343,\n",
       " 'Lower Lawrenceville (Pittsburgh)': 0.8727664203352486,\n",
       " 'Manchester (Pittsburgh)': 0.8565395997812432,\n",
       " 'Marshall': 0.8527439706754,\n",
       " 'Marshall-Shadeland (Pittsburgh)': 0.8654724130596109,\n",
       " 'McCandless': 0.5526969855123166,\n",
       " 'McKeesport': 0.6412464190905716,\n",
       " 'Mcdonald': 0.8977408026920415,\n",
       " 'Mckees rocks': 0.8658540219510589,\n",
       " 'Middle Hill (Pittsburgh)': 0.8840949824745293,\n",
       " 'Millvale': 0.874417665860828,\n",
       " 'Monroeville': 0.5176785234200211,\n",
       " 'Moon': 0.5921758877503156,\n",
       " 'Morningside (Pittsburgh)': 0.8737367449932928,\n",
       " 'Mount Lebanon': 0.6341812532941274,\n",
       " 'Mount Oliver Borough': 0.8484555817390735,\n",
       " 'Mount Washington (Pittsburgh)': 0.7785514950477891,\n",
       " 'Mt. Oliver (Pittsburgh)': 0.8999383940153753,\n",
       " 'Munhall': 0.8205636898335423,\n",
       " 'Neville': 0.8865864816507334,\n",
       " 'New Homestead (Pittsburgh)': 0.8859512996049295,\n",
       " 'North Braddock': 0.8633099837021072,\n",
       " 'North Fayette': 0.7779012908708763,\n",
       " 'North Oakland (Pittsburgh)': 0.8435346266510795,\n",
       " 'North Shore (Pittsburgh)': 0.8928863066158746,\n",
       " 'North Versailles': 0.812817518344263,\n",
       " 'Northview Heights (Pittsburgh)': 0.8649403656935715,\n",
       " \"O'Hara\": 0.8208565800512487,\n",
       " 'Oakdale': 0.8914628588961792,\n",
       " 'Oakmont': 0.8423150602976618,\n",
       " 'Oakwood (Pittsburgh)': 0.8934740047473071,\n",
       " 'Ohio': 0.8383681769448024,\n",
       " 'Overbrook (Pittsburgh)': 0.8671730014084275,\n",
       " 'Penn Hills': 0.4895207914406634,\n",
       " 'Pennsbury Village': 0.8961299506521302,\n",
       " 'Perry North (Pittsburgh)': 0.850184182837863,\n",
       " 'Perry South (Pittsburgh)': 0.8560027544170722,\n",
       " 'Pine': 0.7762216248433289,\n",
       " 'Pitcairn': 0.8637878094479955,\n",
       " 'Pleasant Hills': 0.7783105340196618,\n",
       " 'Plum': 0.6709445836155006,\n",
       " 'Point Breeze (Pittsburgh)': 0.8694899693089718,\n",
       " 'Point Breeze North (Pittsburgh)': 0.8823838172698115,\n",
       " 'Polish Hill (Pittsburgh)': 0.9000632335029569,\n",
       " 'Port Vue': 0.8684864591682708,\n",
       " 'Rankin': 0.8848629944974742,\n",
       " 'Regent Square (Pittsburgh)': 0.8871574125584167,\n",
       " 'Reserve': 0.8566521761074372,\n",
       " 'Richland': 0.5016608817870166,\n",
       " 'Ridgemont (Pittsburgh)': 0.8968002358766103,\n",
       " 'Robinson': 0.7710310860940663,\n",
       " 'Ross': 0.18163224444366502,\n",
       " 'Rosslyn Farms': 0.89858622907535,\n",
       " 'Scott': 0.4743511625573095,\n",
       " 'Sewickley': 0.8788366473727943,\n",
       " 'Sewickley Heights': 0.9151365134620999,\n",
       " 'Sewickley Hills': 0.8970466598151089,\n",
       " 'Shadyside (Pittsburgh)': 0.6352273975432113,\n",
       " 'Shaler': 0.6254969539852224,\n",
       " 'Sharpsburg': 0.8763575289322858,\n",
       " 'Sheraden (Pittsburgh)': 0.8583552332482878,\n",
       " 'South Fayette': 0.7109014917189327,\n",
       " 'South Oakland (Pittsburgh)': 0.8299149307468805,\n",
       " 'South Park': 0.8062959095796234,\n",
       " 'South Shore (Pittsburgh)': 0.8966402344231986,\n",
       " 'South Versailles': 0.8973405088808251,\n",
       " 'Southside Flats (Pittsburgh)': 0.7189845471550097,\n",
       " 'Southside Slopes (Pittsburgh)': 0.8448986762598568,\n",
       " 'Spring Garden (Pittsburgh)': 0.895390969014322,\n",
       " 'Spring Hill-City View (Pittsburgh)': 0.8833092443798259,\n",
       " 'Springdale Borough': 0.8830348076913548,\n",
       " 'Springdale Township': 0.8939155921050473,\n",
       " 'Squirrel Hill North (Pittsburgh)': 0.8380583764277622,\n",
       " 'Squirrel Hill South (Pittsburgh)': 0.7511546371497673,\n",
       " 'St. Clair (Pittsburgh)': 0.9002903038513644,\n",
       " 'Stanton Heights (Pittsburgh)': 0.8645063610733951,\n",
       " 'Stowe': 0.8056567487977612,\n",
       " 'Strip District (Pittsburgh)': 0.8889352976932893,\n",
       " 'Summer Hill (Pittsburgh)': 0.8918279907415656,\n",
       " 'Swisshelm Park (Pittsburgh)': 0.8909174131592806,\n",
       " 'Swissvale': 0.8398635761144906,\n",
       " 'Tarentum': 0.8666591724230073,\n",
       " 'Terrace Village (Pittsburgh)': 0.8789669497707471,\n",
       " 'Thornburg': 0.8943132995499218,\n",
       " 'Trafford': 0.900058060770273,\n",
       " 'Troy Hill (Pittsburgh)': 0.8859493819089099,\n",
       " 'Turtle Creek': 0.7947435651460424,\n",
       " 'Undefined': 0.6913670073810843,\n",
       " 'Undefined (Pittsburgh)': 0.900019353590091,\n",
       " 'Upper Hill (Pittsburgh)': 0.8837298506291431,\n",
       " 'Upper Lawrenceville (Pittsburgh)': 0.8912480517091592,\n",
       " 'Upper Saint Clair': 0.6864027272343217,\n",
       " 'Verona': 0.8878831133996739,\n",
       " 'Versailles': 0.8815974105047856,\n",
       " 'Wall': 0.8857252468916855,\n",
       " 'West Deer': 0.8445990741060824,\n",
       " 'West Elizabeth': 0.8978859546177237,\n",
       " 'West End (Pittsburgh)': 0.8984701075348043,\n",
       " 'West Homestead': 0.8797059314085552,\n",
       " 'West Mifflin': 0.7229150710361154,\n",
       " 'West Oakland (Pittsburgh)': 0.8411386756589931,\n",
       " 'West View': 0.8562859678397331,\n",
       " 'Westwood (Pittsburgh)': 0.8607130574155665,\n",
       " 'Whitaker': 0.8710598767672003,\n",
       " 'White Oak': 0.8323797545137569,\n",
       " 'Whitehall': 0.5441775334362945,\n",
       " 'Wilkins': 0.8630819545056899,\n",
       " 'Wilkinsburg': 0.6998622783410896,\n",
       " 'Wilmerding': 0.8833172936565391,\n",
       " 'Windgap (Pittsburgh)': 0.8902303607110514}"
      ]
     },
     "execution_count": 4,
     "metadata": {},
     "output_type": "execute_result"
    }
   ],
   "source": [
    "cases_max = covid_data['cases'].max()\n",
    "deaths_max = covid_data['deaths'].max()\n",
    "testing_max = covid_data['indv_tested'].max()\n",
    "scores = {}\n",
    "for index, row in covid_data.iterrows():\n",
    "    cases_score = 0.5 * (1 - (row['cases'] / cases_max)) # 50%\n",
    "    deaths_score = 0.4 * (1 - (row['deaths'] / deaths_max)) # 40%\n",
    "    testing_score = 0.1 * (row['indv_tested'] / testing_max) # 10%\n",
    "    scores[index] = cases_score + deaths_score + testing_score\n",
    "scores"
   ]
  },
  {
   "cell_type": "markdown",
   "metadata": {},
   "source": [
    "We now compile these scores into a new dataframe, and we can analyze the graph to determine which neighborhoods have the best score, and thus have handled the Covid-19 the best:"
   ]
  },
  {
   "cell_type": "code",
   "execution_count": 5,
   "metadata": {},
   "outputs": [],
   "source": [
    "scores_df = pd.DataFrame.from_dict(scores, orient='index', columns=['score'])"
   ]
  },
  {
   "cell_type": "code",
   "execution_count": 6,
   "metadata": {},
   "outputs": [
    {
     "data": {
      "text/plain": [
       "<AxesSubplot:>"
      ]
     },
     "execution_count": 6,
     "metadata": {},
     "output_type": "execute_result"
    },
    {
     "data": {
      "image/png": "[encoded data removed]",
      "text/plain": [
       "<Figure size 720x720 with 1 Axes>"
      ]
     },
     "metadata": {
      "needs_background": "light"
     },
     "output_type": "display_data"
    }
   ],
   "source": [
    "scores_df.sort_values('score').tail(20).plot(kind=\"bar\",figsize=(10,10))"
   ]
  },
  {
   "cell_type": "markdown",
   "metadata": {},
   "source": [
    "As you can see, the scores are fairly close up to 2nd place. However, Sewickley Heights has the best score by a confident margin."
   ]
  },
  {
   "cell_type": "markdown",
   "metadata": {},
   "source": [
    "#### Conclusion\n",
    "\n",
    "My personal favorite neighborhood since moving on campus is definitely Oakland. The \"best neighborhood\" from my data, however, is Sewickley Heights. I'm not particularly surprised or disappointed by this outcome; I didn't expect Oakland to win on this metric, and apparently Sewickley Heights is one of the wealthiest neighborhoods in the state and has a relatively low population, so this outcome is not particularly surprising."
   ]
  },
  {
   "cell_type": "markdown",
   "metadata": {},
   "source": [
    "### Public Arts Data"
   ]
  },
  {
   "cell_type": "markdown",
   "metadata": {},
   "source": [
    "When determining \"bestness\" based on public art in the neighborhood, I had two measurements, quantity and diversity. The top 5 neighborhoods were the 5 neighborhoods with the most art. Then, their places were determined by how many different types of pieces they had, with the most types being most important, and then the amount of each type the neighborhood had was next important. This gave my top 5 neighborhoods as such,\n",
    "1. Central Business District with 5 types of art.\n",
    "2. Allegheny Center with 4 types that had 3 close to evenly spread types.\n",
    "3. South Side Flats had 4 types but two were more dominant than the other two.\n",
    "4. Squirrel Hill South also had 4 types but while three were almost perfectly split, half of the neighborhood's pieces were all one type.\n",
    "5. Highland Park had only 10 pieces and only 3 types of art in it.\n",
    "\n",
    "First I took a graph of how much art each neighborhood had because I knew it would be the simpler part to get done. This gave me the top 5 neighborhoods previously listed."
   ]
  },
  {
   "cell_type": "code",
   "execution_count": 7,
   "metadata": {},
   "outputs": [
    {
     "data": {
      "text/plain": [
       "<AxesSubplot:>"
      ]
     },
     "execution_count": 7,
     "metadata": {},
     "output_type": "execute_result"
    },
    {
     "data": {
      "image/png": "[encoded data removed]",
      "text/plain": [
       "<Figure size 2160x720 with 1 Axes>"
      ]
     },
     "metadata": {
      "needs_background": "light"
     },
     "output_type": "display_data"
    }
   ],
   "source": [
    "import matplotlib.pyplot as plt\n",
    "art_data = pd.read_csv(\"https://data.wprdc.org/datastore/dump/00d74e83-8a23-486e-841b-286e1332a151\", index_col = \"id\")\n",
    "art_data[\"neighborhood\"].value_counts().sort_index().plot(kind='bar', rot= 'vertical', figsize = (30, 10))"
   ]
  },
  {
   "cell_type": "markdown",
   "metadata": {},
   "source": [
    "#### Measuring Diversity\n",
    "For my second metric I took the top 5 neighborhoods and then I measured how many pieces of the 5 types they had. These types of pieces were labeled by the dataset as individual and historic monuments, historic art, war memorials, modern and contemporary art, and non-city owned.\n",
    "Here is an example of the process for finding the distribution of types using the Central Business District's data. The only thing missing from this example is that after finishing cbd, I printed out its contents and manually counted the amount of each type which I then typed into cbd_amounts."
   ]
  },
  {
   "cell_type": "code",
   "execution_count": 8,
   "metadata": {},
   "outputs": [
    {
     "data": {
      "text/plain": [
       "([<matplotlib.patches.Wedge at 0x7f18465b0e50>,\n",
       "  <matplotlib.patches.Wedge at 0x7f18465bc310>,\n",
       "  <matplotlib.patches.Wedge at 0x7f18465bc790>,\n",
       "  <matplotlib.patches.Wedge at 0x7f18465bcc10>,\n",
       "  <matplotlib.patches.Wedge at 0x7f18465bcf40>],\n",
       " [Text(1.070349357197973, 0.2536774596724868, 'Historic Art'),\n",
       "  Text(-0.31548357059890975, 1.0537884591710818, 'Individual and Historic Monuments'),\n",
       "  Text(-0.6568744447537896, -0.8823355165861798, 'Modern and Contemporary Art'),\n",
       "  Text(0.3154835459332104, -1.0537884665555075, 'Non-City Owned'),\n",
       "  Text(0.9190365757857503, -0.6044599013731209, 'War Memorials')])"
      ]
     },
     "execution_count": 8,
     "metadata": {},
     "output_type": "execute_result"
    },
    {
     "data": {
      "image/png": "[encoded data removed]",
      "text/plain": [
       "<Figure size 432x288 with 1 Axes>"
      ]
     },
     "metadata": {},
     "output_type": "display_data"
    }
   ],
   "source": [
    "cbd = []\n",
    "query_mask = art_data['neighborhood'] == \"Central Business District\"\n",
    "i=0\n",
    "column = \"art_type\"\n",
    "while(i<len(art_data)):\n",
    "    if(query_mask.iloc[i] == True):\n",
    "        cbd.append([art_data['art_type'].iloc[i]])\n",
    "    i+=1\n",
    "cbd_amounts = [2, 12, 7, 1, 5]\n",
    "types = ['Historic Art', 'Individual and Historic Monuments', 'Modern and Contemporary Art', 'Non-City Owned', 'War Memorials']\n",
    "plt.pie(cbd_amounts, labels = types)"
   ]
  },
  {
   "cell_type": "markdown",
   "metadata": {},
   "source": [
    "#### Public Art Data Conclusion:\n",
    "Even after making a second factor for what counts as the \"best\" neighborhood beyond quantity, the Central Business District remains supreme. This was because of the five neighborhoods with at least 10 art pieces, the Central Business District was the only neighborhood with five different types of art. At best the other neighborhoods had 5 types."
   ]
  },
  {
   "cell_type": "markdown",
   "metadata": {},
   "source": [
    "## The Best Neighborhood\n",
    "\n",
    "To identify the best neighborhood, we are going to go through the top several neighborhoods in the public art metric, and choose the one with the best Covid-19 score."
   ]
  },
  {
   "cell_type": "code",
   "execution_count": 32,
   "metadata": {},
   "outputs": [
    {
     "data": {
      "text/html": [
       "<div>\n",
       "<style scoped>\n",
       "    .dataframe tbody tr th:only-of-type {\n",
       "        vertical-align: middle;\n",
       "    }\n",
       "\n",
       "    .dataframe tbody tr th {\n",
       "        vertical-align: top;\n",
       "    }\n",
       "\n",
       "    .dataframe thead th {\n",
       "        text-align: right;\n",
       "    }\n",
       "</style>\n",
       "<table border=\"1\" class=\"dataframe\">\n",
       "  <thead>\n",
       "    <tr style=\"text-align: right;\">\n",
       "      <th></th>\n",
       "      <th>score</th>\n",
       "    </tr>\n",
       "  </thead>\n",
       "  <tbody>\n",
       "    <tr>\n",
       "      <th>Central Business District (Pittsburgh)</th>\n",
       "      <td>0.849796</td>\n",
       "    </tr>\n",
       "    <tr>\n",
       "      <th>Allegheny Center (Pittsburgh)</th>\n",
       "      <td>0.887261</td>\n",
       "    </tr>\n",
       "    <tr>\n",
       "      <th>Southside Flats (Pittsburgh)</th>\n",
       "      <td>0.718985</td>\n",
       "    </tr>\n",
       "    <tr>\n",
       "      <th>Squirrel Hill South (Pittsburgh)</th>\n",
       "      <td>0.751155</td>\n",
       "    </tr>\n",
       "    <tr>\n",
       "      <th>Highland Park (Pittsburgh)</th>\n",
       "      <td>0.822877</td>\n",
       "    </tr>\n",
       "  </tbody>\n",
       "</table>\n",
       "</div>"
      ],
      "text/plain": [
       "                                           score\n",
       "Central Business District (Pittsburgh)  0.849796\n",
       "Allegheny Center (Pittsburgh)           0.887261\n",
       "Southside Flats (Pittsburgh)            0.718985\n",
       "Squirrel Hill South (Pittsburgh)        0.751155\n",
       "Highland Park (Pittsburgh)              0.822877"
      ]
     },
     "execution_count": 32,
     "metadata": {},
     "output_type": "execute_result"
    }
   ],
   "source": [
    "scores_df.loc[[\"Central Business District (Pittsburgh)\", \"Allegheny Center (Pittsburgh)\", \"Southside Flats (Pittsburgh)\", \"Squirrel Hill South (Pittsburgh)\", \"Highland Park (Pittsburgh)\"]]"
   ]
  },
  {
   "cell_type": "markdown",
   "metadata": {},
   "source": [
    "Of the top 5 Public Art neighborhoods in the city of Pittsburgh, Allegheny Center had the best Covid-19 handling score by a large margin. Thus, Allegheny Center is the best neighborhood in Pittsburgh according to our metrics."
   ]
  },
  {
   "cell_type": "markdown",
   "metadata": {},
   "source": [
    "Out of all the the neighborhoods in Pittsburgh, Allegheny Center places 58th out of 221 neighborhoods for handling Covid-19, and 2nd in Public Art. However, considering that the top 60 neighborhoods all have a similar Covid-19 score, do not be confused by the fact that Allegheny Center placed 58th out of 221 neighborhoods; they still handled Covid-19 very well.\n",
    "\n",
    "The following are neighborhoods 60-56 in terms of how they handled Covid-19."
   ]
  },
  {
   "cell_type": "code",
   "execution_count": 39,
   "metadata": {},
   "outputs": [
    {
     "data": {
      "text/html": [
       "<div>\n",
       "<style scoped>\n",
       "    .dataframe tbody tr th:only-of-type {\n",
       "        vertical-align: middle;\n",
       "    }\n",
       "\n",
       "    .dataframe tbody tr th {\n",
       "        vertical-align: top;\n",
       "    }\n",
       "\n",
       "    .dataframe thead th {\n",
       "        text-align: right;\n",
       "    }\n",
       "</style>\n",
       "<table border=\"1\" class=\"dataframe\">\n",
       "  <thead>\n",
       "    <tr style=\"text-align: right;\">\n",
       "      <th></th>\n",
       "      <th>score</th>\n",
       "    </tr>\n",
       "  </thead>\n",
       "  <tbody>\n",
       "    <tr>\n",
       "      <th>Aspinwall</th>\n",
       "      <td>0.886657</td>\n",
       "    </tr>\n",
       "    <tr>\n",
       "      <th>Regent Square (Pittsburgh)</th>\n",
       "      <td>0.887157</td>\n",
       "    </tr>\n",
       "    <tr>\n",
       "      <th>Allegheny Center (Pittsburgh)</th>\n",
       "      <td>0.887261</td>\n",
       "    </tr>\n",
       "    <tr>\n",
       "      <th>Verona</th>\n",
       "      <td>0.887883</td>\n",
       "    </tr>\n",
       "    <tr>\n",
       "      <th>Ben Avon</th>\n",
       "      <td>0.888103</td>\n",
       "    </tr>\n",
       "  </tbody>\n",
       "</table>\n",
       "</div>"
      ],
      "text/plain": [
       "                                  score\n",
       "Aspinwall                      0.886657\n",
       "Regent Square (Pittsburgh)     0.887157\n",
       "Allegheny Center (Pittsburgh)  0.887261\n",
       "Verona                         0.887883\n",
       "Ben Avon                       0.888103"
      ]
     },
     "execution_count": 39,
     "metadata": {},
     "output_type": "execute_result"
    }
   ],
   "source": [
    "scores_df.sort_values('score').tail(60).head(5)"
   ]
  },
  {
   "cell_type": "markdown",
   "metadata": {},
   "source": [
    "The following are the top 5 neighborhoods in handling Covid-19."
   ]
  },
  {
   "cell_type": "code",
   "execution_count": 38,
   "metadata": {},
   "outputs": [
    {
     "data": {
      "text/html": [
       "<div>\n",
       "<style scoped>\n",
       "    .dataframe tbody tr th:only-of-type {\n",
       "        vertical-align: middle;\n",
       "    }\n",
       "\n",
       "    .dataframe tbody tr th {\n",
       "        vertical-align: top;\n",
       "    }\n",
       "\n",
       "    .dataframe thead th {\n",
       "        text-align: right;\n",
       "    }\n",
       "</style>\n",
       "<table border=\"1\" class=\"dataframe\">\n",
       "  <thead>\n",
       "    <tr style=\"text-align: right;\">\n",
       "      <th></th>\n",
       "      <th>score</th>\n",
       "    </tr>\n",
       "  </thead>\n",
       "  <tbody>\n",
       "    <tr>\n",
       "      <th>Undefined (Pittsburgh)</th>\n",
       "      <td>0.900019</td>\n",
       "    </tr>\n",
       "    <tr>\n",
       "      <th>Trafford</th>\n",
       "      <td>0.900058</td>\n",
       "    </tr>\n",
       "    <tr>\n",
       "      <th>Polish Hill (Pittsburgh)</th>\n",
       "      <td>0.900063</td>\n",
       "    </tr>\n",
       "    <tr>\n",
       "      <th>St. Clair (Pittsburgh)</th>\n",
       "      <td>0.900290</td>\n",
       "    </tr>\n",
       "    <tr>\n",
       "      <th>Sewickley Heights</th>\n",
       "      <td>0.915137</td>\n",
       "    </tr>\n",
       "  </tbody>\n",
       "</table>\n",
       "</div>"
      ],
      "text/plain": [
       "                             score\n",
       "Undefined (Pittsburgh)    0.900019\n",
       "Trafford                  0.900058\n",
       "Polish Hill (Pittsburgh)  0.900063\n",
       "St. Clair (Pittsburgh)    0.900290\n",
       "Sewickley Heights         0.915137"
      ]
     },
     "execution_count": 38,
     "metadata": {},
     "output_type": "execute_result"
    }
   ],
   "source": [
    "scores_df.sort_values('score').tail(5)"
   ]
  },
  {
   "cell_type": "markdown",
   "metadata": {},
   "source": [
    "As you can see, Allegheny Center is only 3% below that of the best neighborhood. Thus, its performance in the Public Arts data is more significant than the tiny differential between it and the neighborhood with the best Covid-19 score."
   ]
  },
  {
   "cell_type": "markdown",
   "metadata": {},
   "source": [
    "## Conclusion\n",
    "\n",
    "Liam: I grew up in Pleasant Hills and still live there, so that's my favorite neighborhood. However, Pleasant Hills faired pretty poorly in both metrics compared to Allegheny Center. I'm not surprised that Pleasant Hills did not win, though; there is not a lot of art there, and it is a populated suburban area, so it is expected that it would handle Covid-19 fairly poorly too.\n",
    "\n",
    "James: Despite being a Pittsburgh native I don't really have a favorite neighborhood, I'm from Point Breeze but also like Squirrel Hill and Oakland. Most of Pittsburgh I don't really have any strong opinions about. So while my favorites got screwed by the different location variants of them I'm not very surprised, like how Oakland is split up into various North, South and Central I can't say it was very surprising. Also, Point Breeze isn't exactly large so while it did will with Covid-19 scoring, I wasn't expecting it to do well overall because it doesn't have much art."
   ]
  }
 ],
 "metadata": {
  "kernelspec": {
   "display_name": "Python 3",
   "language": "python",
   "name": "python3"
  },
  "language_info": {
   "codemirror_mode": {
    "name": "ipython",
    "version": 3
   },
   "file_extension": ".py",
   "mimetype": "text/x-python",
   "name": "python",
   "nbconvert_exporter": "python",
   "pygments_lexer": "ipython3",
   "version": "3.8.6"
  }
 },
 "nbformat": 4,
 "nbformat_minor": 4
}
